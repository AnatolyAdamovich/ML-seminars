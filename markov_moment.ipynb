{
 "cells": [
  {
   "cell_type": "code",
   "execution_count": 16,
   "id": "1e834dbf",
   "metadata": {},
   "outputs": [],
   "source": [
    "import pandas as pd\n",
    "import numpy as np\n",
    "import matplotlib.pyplot as plt\n",
    "%matplotlib inline\n",
    "\n",
    "plt.rcParams[\"image.cmap\"] = \"viridis\"\n",
    "plt.rcParams[\"figure.figsize\"] = 15, 8\n",
    "\n",
    "from sklearn.linear_model import LinearRegression"
   ]
  },
  {
   "cell_type": "markdown",
   "id": "740ca986",
   "metadata": {},
   "source": [
    "## Данные"
   ]
  },
  {
   "cell_type": "code",
   "execution_count": 49,
   "id": "c0a8c030",
   "metadata": {},
   "outputs": [
    {
     "data": {
      "text/plain": [
       "Text(0, 0.5, 'минимальный элемент матрицы сходства')"
      ]
     },
     "execution_count": 49,
     "metadata": {},
     "output_type": "execute_result"
    },
    {
     "data": {
      "image/png": "[encoded data removed]",
      "text/plain": [
       "<Figure size 1080x576 with 1 Axes>"
      ]
     },
     "metadata": {
      "needs_background": "light"
     },
     "output_type": "display_data"
    }
   ],
   "source": [
    "min_distances = np.array([10.3, 11.03, 11.61, 12.26, 13.29, 13.86, 14.63, 15.9, 16.47, 17.26, 18.62, 20.52, 23.46, 28.18])\n",
    "\n",
    "plt.plot(min_distances, 'o')\n",
    "plt.title('Последовательность минимальных расстояний', fontdict={'fontfamily':'monospace', \n",
    "                                                                 'fontsize':18})\n",
    "plt.xlabel('Номер итерации агломеративной кластеризации')\n",
    "plt.ylabel('минимальный элемент матрицы сходства')"
   ]
  },
  {
   "cell_type": "code",
   "execution_count": 50,
   "id": "1d01f2dc",
   "metadata": {},
   "outputs": [
    {
     "data": {
      "text/html": [
       "<div>\n",
       "<style scoped>\n",
       "    .dataframe tbody tr th:only-of-type {\n",
       "        vertical-align: middle;\n",
       "    }\n",
       "\n",
       "    .dataframe tbody tr th {\n",
       "        vertical-align: top;\n",
       "    }\n",
       "\n",
       "    .dataframe thead th {\n",
       "        text-align: right;\n",
       "    }\n",
       "</style>\n",
       "<table border=\"1\" class=\"dataframe\">\n",
       "  <thead>\n",
       "    <tr style=\"text-align: right;\">\n",
       "      <th></th>\n",
       "      <th>0</th>\n",
       "      <th>1</th>\n",
       "      <th>2</th>\n",
       "      <th>3</th>\n",
       "      <th>4</th>\n",
       "      <th>5</th>\n",
       "      <th>6</th>\n",
       "      <th>7</th>\n",
       "      <th>8</th>\n",
       "      <th>9</th>\n",
       "      <th>10</th>\n",
       "      <th>11</th>\n",
       "      <th>12</th>\n",
       "      <th>13</th>\n",
       "    </tr>\n",
       "  </thead>\n",
       "  <tbody>\n",
       "    <tr>\n",
       "      <th>i</th>\n",
       "      <td>0.0</td>\n",
       "      <td>1.00</td>\n",
       "      <td>2.00</td>\n",
       "      <td>3.00</td>\n",
       "      <td>4.00</td>\n",
       "      <td>5.00</td>\n",
       "      <td>6.00</td>\n",
       "      <td>7.0</td>\n",
       "      <td>8.00</td>\n",
       "      <td>9.00</td>\n",
       "      <td>10.00</td>\n",
       "      <td>11.00</td>\n",
       "      <td>12.00</td>\n",
       "      <td>13.00</td>\n",
       "    </tr>\n",
       "    <tr>\n",
       "      <th>i^2</th>\n",
       "      <td>0.0</td>\n",
       "      <td>1.00</td>\n",
       "      <td>4.00</td>\n",
       "      <td>9.00</td>\n",
       "      <td>16.00</td>\n",
       "      <td>25.00</td>\n",
       "      <td>36.00</td>\n",
       "      <td>49.0</td>\n",
       "      <td>64.00</td>\n",
       "      <td>81.00</td>\n",
       "      <td>100.00</td>\n",
       "      <td>121.00</td>\n",
       "      <td>144.00</td>\n",
       "      <td>169.00</td>\n",
       "    </tr>\n",
       "    <tr>\n",
       "      <th>y</th>\n",
       "      <td>10.3</td>\n",
       "      <td>11.03</td>\n",
       "      <td>11.61</td>\n",
       "      <td>12.26</td>\n",
       "      <td>13.29</td>\n",
       "      <td>13.86</td>\n",
       "      <td>14.63</td>\n",
       "      <td>15.9</td>\n",
       "      <td>16.47</td>\n",
       "      <td>17.26</td>\n",
       "      <td>18.62</td>\n",
       "      <td>20.52</td>\n",
       "      <td>23.46</td>\n",
       "      <td>28.18</td>\n",
       "    </tr>\n",
       "  </tbody>\n",
       "</table>\n",
       "</div>"
      ],
      "text/plain": [
       "       0      1      2      3      4      5      6     7      8      9   \\\n",
       "i     0.0   1.00   2.00   3.00   4.00   5.00   6.00   7.0   8.00   9.00   \n",
       "i^2   0.0   1.00   4.00   9.00  16.00  25.00  36.00  49.0  64.00  81.00   \n",
       "y    10.3  11.03  11.61  12.26  13.29  13.86  14.63  15.9  16.47  17.26   \n",
       "\n",
       "         10      11      12      13  \n",
       "i     10.00   11.00   12.00   13.00  \n",
       "i^2  100.00  121.00  144.00  169.00  \n",
       "y     18.62   20.52   23.46   28.18  "
      ]
     },
     "execution_count": 50,
     "metadata": {},
     "output_type": "execute_result"
    }
   ],
   "source": [
    "data = pd.DataFrame({'i': np.arange(len(min_distances)),\n",
    "                     'i^2': np.arange(len(min_distances))**2,\n",
    "                     'y': min_distances})\n",
    "data.transpose()"
   ]
  },
  {
   "cell_type": "markdown",
   "id": "086821c3",
   "metadata": {},
   "source": [
    "## Аппроксимирующие функции"
   ]
  },
  {
   "cell_type": "code",
   "execution_count": 51,
   "id": "9d44de31",
   "metadata": {},
   "outputs": [],
   "source": [
    "linear = lambda i, a, b: a * i + b\n",
    "parabolic = lambda i, c, d: c * (i**2) + d"
   ]
  },
  {
   "cell_type": "markdown",
   "id": "cbc0dbc7",
   "metadata": {},
   "source": [
    "## Критерий"
   ]
  },
  {
   "cell_type": "code",
   "execution_count": 92,
   "id": "50483e1a",
   "metadata": {},
   "outputs": [],
   "source": [
    "def markov_moment(number_of_points,\n",
    "                  F):\n",
    "    \"\"\"\n",
    "    Params:\n",
    "      number_of_points: int, how many points would be used for approximation\n",
    "      F: array, the min_distances\n",
    "    \"\"\"\n",
    "    T = len(F)\n",
    "    interval = np.arange(number_of_points)\n",
    "    for i in range(T - number_of_points):\n",
    "        approx_points = F[i:(i+number_of_points)]\n",
    "        #print(i, approx_points)\n",
    "        # transformation\n",
    "        approx_points = approx_points - approx_points[0]\n",
    "        # error for linear\n",
    "        OLS_model = LinearRegression().fit(X=np.reshape(interval, (-1, 1)),\n",
    "                                           y=approx_points)\n",
    "        lin_coef = OLS_model.coef_[0], OLS_model.intercept_\n",
    "        #print(lin_coef)\n",
    "        lin_error = np.sum((linear(interval, lin_coef[0], lin_coef[1]) - approx_points)**2)\n",
    "        #print('linear error =', lin_error)\n",
    "        \n",
    "        # error for parabolic\n",
    "        OLS_model = LinearRegression().fit(X=np.reshape(interval**2, (-1, 1)),\n",
    "                                           y=approx_points)\n",
    "        quad_coef = OLS_model.coef_[0], OLS_model.intercept_\n",
    "        #print(quad_coef)\n",
    "        quad_error = np.sum((parabolic(interval, quad_coef[0], quad_coef[1]) - approx_points)**2)\n",
    "        #print('quad error =', lin_error)\n",
    "        \n",
    "        # criterion\n",
    "        if lin_error > quad_error:\n",
    "            return i"
   ]
  },
  {
   "cell_type": "code",
   "execution_count": 93,
   "id": "bf3efe1c",
   "metadata": {},
   "outputs": [
    {
     "data": {
      "text/plain": [
       "5"
      ]
     },
     "execution_count": 93,
     "metadata": {},
     "output_type": "execute_result"
    }
   ],
   "source": [
    "markov_moment(3, min_distances)"
   ]
  },
  {
   "cell_type": "code",
   "execution_count": 99,
   "id": "702ba4fc",
   "metadata": {},
   "outputs": [
    {
     "data": {
      "text/plain": [
       "[<matplotlib.lines.Line2D at 0x1ff05b29310>]"
      ]
     },
     "execution_count": 99,
     "metadata": {},
     "output_type": "execute_result"
    },
    {
     "data": {
      "image/png": "[encoded data removed]",
      "text/plain": [
       "<Figure size 1080x576 with 1 Axes>"
      ]
     },
     "metadata": {
      "needs_background": "light"
     },
     "output_type": "display_data"
    }
   ],
   "source": [
    "k = 3\n",
    "stop_point = markov_moment(k, min_distances)\n",
    "\n",
    "plt.plot(min_distances, '*b')\n",
    "plt.plot(stop_point, min_distances[stop_point], 'or')"
   ]
  },
  {
   "cell_type": "code",
   "execution_count": 100,
   "id": "a3d835a3",
   "metadata": {},
   "outputs": [
    {
     "data": {
      "text/plain": [
       "[<matplotlib.lines.Line2D at 0x1ff058c0e80>]"
      ]
     },
     "execution_count": 100,
     "metadata": {},
     "output_type": "execute_result"
    },
    {
     "data": {
      "image/png": "[encoded data removed]",
      "text/plain": [
       "<Figure size 1080x576 with 1 Axes>"
      ]
     },
     "metadata": {
      "needs_background": "light"
     },
     "output_type": "display_data"
    }
   ],
   "source": [
    "k = 4\n",
    "stop_point = markov_moment(k, min_distances)\n",
    "\n",
    "plt.plot(min_distances, '*b')\n",
    "plt.plot(stop_point, min_distances[stop_point], 'or')"
   ]
  }
 ],
 "metadata": {
  "kernelspec": {
   "display_name": "Python 3",
   "language": "python",
   "name": "python3"
  },
  "language_info": {
   "codemirror_mode": {
    "name": "ipython",
    "version": 3
   },
   "file_extension": ".py",
   "mimetype": "text/x-python",
   "name": "python",
   "nbconvert_exporter": "python",
   "pygments_lexer": "ipython3",
   "version": "3.8.8"
  },
  "toc": {
   "base_numbering": 1,
   "nav_menu": {},
   "number_sections": true,
   "sideBar": true,
   "skip_h1_title": false,
   "title_cell": "Table of Contents",
   "title_sidebar": "Contents",
   "toc_cell": false,
   "toc_position": {},
   "toc_section_display": true,
   "toc_window_display": false
  }
 },
 "nbformat": 4,
 "nbformat_minor": 5
}
