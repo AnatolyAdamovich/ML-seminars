{
 "cells": [
  {
   "cell_type": "markdown",
   "source": [
    "# EDA: данные из московского кредитного банка (МКБ)"
   ],
   "metadata": {
    "collapsed": false
   }
  },
  {
   "cell_type": "code",
   "execution_count": 2,
   "metadata": {
    "collapsed": true
   },
   "outputs": [],
   "source": [
    "import pandas as pd\n",
    "import numpy as np"
   ]
  },
  {
   "cell_type": "markdown",
   "source": [
    "# Загрузка данных"
   ],
   "metadata": {
    "collapsed": false
   }
  },
  {
   "cell_type": "code",
   "execution_count": 7,
   "outputs": [
    {
     "data": {
      "text/plain": "  id_contract;TARGET\n0  17892;0.020072278\n1   17893;0.04022719\n2  17894;0.049487215\n3   17895;0.20958135\n4   17896;0.97004336",
      "text/html": "<div>\n<style scoped>\n    .dataframe tbody tr th:only-of-type {\n        vertical-align: middle;\n    }\n\n    .dataframe tbody tr th {\n        vertical-align: top;\n    }\n\n    .dataframe thead th {\n        text-align: right;\n    }\n</style>\n<table border=\"1\" class=\"dataframe\">\n  <thead>\n    <tr style=\"text-align: right;\">\n      <th></th>\n      <th>id_contract;TARGET</th>\n    </tr>\n  </thead>\n  <tbody>\n    <tr>\n      <th>0</th>\n      <td>17892;0.020072278</td>\n    </tr>\n    <tr>\n      <th>1</th>\n      <td>17893;0.04022719</td>\n    </tr>\n    <tr>\n      <th>2</th>\n      <td>17894;0.049487215</td>\n    </tr>\n    <tr>\n      <th>3</th>\n      <td>17895;0.20958135</td>\n    </tr>\n    <tr>\n      <th>4</th>\n      <td>17896;0.97004336</td>\n    </tr>\n  </tbody>\n</table>\n</div>"
     },
     "execution_count": 7,
     "metadata": {},
     "output_type": "execute_result"
    }
   ],
   "source": [
    "tmp = pd.read_csv('data/lightautoml.csv')\n",
    "tmp.head()"
   ],
   "metadata": {
    "collapsed": false
   }
  },
  {
   "cell_type": "code",
   "execution_count": 4,
   "outputs": [
    {
     "data": {
      "text/plain": "((17891, 124), (7330, 123))"
     },
     "execution_count": 4,
     "metadata": {},
     "output_type": "execute_result"
    }
   ],
   "source": [
    "data_train = pd.read_csv('data/train_dataset_hackathon_mkb.csv', encoding='cp1251', delimiter=';')\n",
    "data_test = pd.read_csv('data/test_dataset_hackathon_mkb.csv', encoding='cp1251', delimiter=';')\n",
    "\n",
    "data_train.shape, data_test.shape"
   ],
   "metadata": {
    "collapsed": false
   }
  },
  {
   "cell_type": "markdown",
   "source": [
    "# Смотрим на данные"
   ],
   "metadata": {
    "collapsed": false
   }
  },
  {
   "cell_type": "code",
   "execution_count": 8,
   "outputs": [
    {
     "data": {
      "text/plain": "       id_contract  id_client           SIGN_DATE  IP_flag  TARGET  \\\n5574          5575      10500  24MAY2018:00:00:00        0       0   \n5162          5163       9724  14MAY2018:00:00:00        0       0   \n6687          6688      10626  19JUN2018:00:00:00        0       1   \n17561        17562       3496  29MAR2019:00:00:00        0       0   \n10180        10181       9358  24SEP2018:00:00:00        0       1   \n\n             F1100      F1110        F1150  F1160        F1170  ...  \\\n5574     2321000.0        NaN    2321000.0    NaN          NaN  ...   \n5162   337618000.0   299000.0  336206000.0    NaN          NaN  ...   \n6687           NaN        NaN          NaN    NaN          NaN  ...   \n17561  612492000.0  1055000.0  120552000.0    NaN  490885000.0  ...   \n10180     213000.0        NaN     213000.0    NaN          NaN  ...   \n\n       WINNERNUMBER_95_EVER  SIGNEDNUMBER_95_EVER  SUM_95_EVER  \\\n5574                   59.0                  59.0  265900132.0   \n5162                    NaN                   NaN          NaN   \n6687                    NaN                   NaN          NaN   \n17561                   NaN                   NaN          NaN   \n10180                   NaN                   NaN          NaN   \n\n       FLAG_DISQUALIFICATION  COUNT_CHANGE_YEAR  COUNT_CHANGE_EVER  BIRTHDATE  \\\n5574                     NaN                NaN                NaN        NaN   \n5162                     NaN                NaN                NaN        NaN   \n6687                     NaN                NaN                NaN        NaN   \n17561                    NaN                NaN                NaN        NaN   \n10180                    NaN                NaN                NaN        NaN   \n\n       AGE  SEX_NAME  CITIZENSHIP_NAME  \n5574   NaN       NaN               NaN  \n5162   NaN       NaN               NaN  \n6687   NaN       NaN               NaN  \n17561  NaN       NaN               NaN  \n10180  NaN       NaN               NaN  \n\n[5 rows x 124 columns]",
      "text/html": "<div>\n<style scoped>\n    .dataframe tbody tr th:only-of-type {\n        vertical-align: middle;\n    }\n\n    .dataframe tbody tr th {\n        vertical-align: top;\n    }\n\n    .dataframe thead th {\n        text-align: right;\n    }\n</style>\n<table border=\"1\" class=\"dataframe\">\n  <thead>\n    <tr style=\"text-align: right;\">\n      <th></th>\n      <th>id_contract</th>\n      <th>id_client</th>\n      <th>SIGN_DATE</th>\n      <th>IP_flag</th>\n      <th>TARGET</th>\n      <th>F1100</th>\n      <th>F1110</th>\n      <th>F1150</th>\n      <th>F1160</th>\n      <th>F1170</th>\n      <th>...</th>\n      <th>WINNERNUMBER_95_EVER</th>\n      <th>SIGNEDNUMBER_95_EVER</th>\n      <th>SUM_95_EVER</th>\n      <th>FLAG_DISQUALIFICATION</th>\n      <th>COUNT_CHANGE_YEAR</th>\n      <th>COUNT_CHANGE_EVER</th>\n      <th>BIRTHDATE</th>\n      <th>AGE</th>\n      <th>SEX_NAME</th>\n      <th>CITIZENSHIP_NAME</th>\n    </tr>\n  </thead>\n  <tbody>\n    <tr>\n      <th>5574</th>\n      <td>5575</td>\n      <td>10500</td>\n      <td>24MAY2018:00:00:00</td>\n      <td>0</td>\n      <td>0</td>\n      <td>2321000.0</td>\n      <td>NaN</td>\n      <td>2321000.0</td>\n      <td>NaN</td>\n      <td>NaN</td>\n      <td>...</td>\n      <td>59.0</td>\n      <td>59.0</td>\n      <td>265900132.0</td>\n      <td>NaN</td>\n      <td>NaN</td>\n      <td>NaN</td>\n      <td>NaN</td>\n      <td>NaN</td>\n      <td>NaN</td>\n      <td>NaN</td>\n    </tr>\n    <tr>\n      <th>5162</th>\n      <td>5163</td>\n      <td>9724</td>\n      <td>14MAY2018:00:00:00</td>\n      <td>0</td>\n      <td>0</td>\n      <td>337618000.0</td>\n      <td>299000.0</td>\n      <td>336206000.0</td>\n      <td>NaN</td>\n      <td>NaN</td>\n      <td>...</td>\n      <td>NaN</td>\n      <td>NaN</td>\n      <td>NaN</td>\n      <td>NaN</td>\n      <td>NaN</td>\n      <td>NaN</td>\n      <td>NaN</td>\n      <td>NaN</td>\n      <td>NaN</td>\n      <td>NaN</td>\n    </tr>\n    <tr>\n      <th>6687</th>\n      <td>6688</td>\n      <td>10626</td>\n      <td>19JUN2018:00:00:00</td>\n      <td>0</td>\n      <td>1</td>\n      <td>NaN</td>\n      <td>NaN</td>\n      <td>NaN</td>\n      <td>NaN</td>\n      <td>NaN</td>\n      <td>...</td>\n      <td>NaN</td>\n      <td>NaN</td>\n      <td>NaN</td>\n      <td>NaN</td>\n      <td>NaN</td>\n      <td>NaN</td>\n      <td>NaN</td>\n      <td>NaN</td>\n      <td>NaN</td>\n      <td>NaN</td>\n    </tr>\n    <tr>\n      <th>17561</th>\n      <td>17562</td>\n      <td>3496</td>\n      <td>29MAR2019:00:00:00</td>\n      <td>0</td>\n      <td>0</td>\n      <td>612492000.0</td>\n      <td>1055000.0</td>\n      <td>120552000.0</td>\n      <td>NaN</td>\n      <td>490885000.0</td>\n      <td>...</td>\n      <td>NaN</td>\n      <td>NaN</td>\n      <td>NaN</td>\n      <td>NaN</td>\n      <td>NaN</td>\n      <td>NaN</td>\n      <td>NaN</td>\n      <td>NaN</td>\n      <td>NaN</td>\n      <td>NaN</td>\n    </tr>\n    <tr>\n      <th>10180</th>\n      <td>10181</td>\n      <td>9358</td>\n      <td>24SEP2018:00:00:00</td>\n      <td>0</td>\n      <td>1</td>\n      <td>213000.0</td>\n      <td>NaN</td>\n      <td>213000.0</td>\n      <td>NaN</td>\n      <td>NaN</td>\n      <td>...</td>\n      <td>NaN</td>\n      <td>NaN</td>\n      <td>NaN</td>\n      <td>NaN</td>\n      <td>NaN</td>\n      <td>NaN</td>\n      <td>NaN</td>\n      <td>NaN</td>\n      <td>NaN</td>\n      <td>NaN</td>\n    </tr>\n  </tbody>\n</table>\n<p>5 rows × 124 columns</p>\n</div>"
     },
     "execution_count": 8,
     "metadata": {},
     "output_type": "execute_result"
    }
   ],
   "source": [
    "data_train.sample(5)"
   ],
   "metadata": {
    "collapsed": false
   }
  },
  {
   "cell_type": "code",
   "execution_count": 6,
   "outputs": [
    {
     "data": {
      "text/plain": "      id_contract  id_client           SIGN_DATE  IP_flag  F1100  F1110  \\\n6620        24512       5586  18NOV2019:00:00:00        1    NaN    NaN   \n938         18830       3780  06MAY2019:00:00:00        1    NaN    NaN   \n3439        21331       8184  16JUL2019:00:00:00        0    NaN    NaN   \n1491        19383      10894  24MAY2019:00:00:00        0    NaN    NaN   \n691         18583       3452  25APR2019:00:00:00        1    NaN    NaN   \n\n      F1150  F1160  F1170  F1180  ...  WINNERNUMBER_95_EVER  \\\n6620    NaN    NaN    NaN    NaN  ...                   NaN   \n938     NaN    NaN    NaN    NaN  ...                   NaN   \n3439    NaN    NaN    NaN    NaN  ...                 380.0   \n1491    NaN    NaN    NaN    NaN  ...                   NaN   \n691     NaN    NaN    NaN    NaN  ...                   NaN   \n\n      SIGNEDNUMBER_95_EVER  SUM_95_EVER  FLAG_DISQUALIFICATION  \\\n6620                   NaN          NaN                    NaN   \n938                    NaN          NaN                    NaN   \n3439                 374.0   49363710.0                    NaN   \n1491                   NaN          NaN                    NaN   \n691                    NaN          NaN                    NaN   \n\n      COUNT_CHANGE_YEAR  COUNT_CHANGE_EVER           BIRTHDATE   AGE  \\\n6620                NaN                NaN                 NaN   NaN   \n938                 NaN                NaN  13APR1982:00:00:00  37.0   \n3439                NaN                NaN                 NaN   NaN   \n1491                NaN                NaN                 NaN   NaN   \n691                 NaN                NaN  01SEP1986:00:00:00  33.0   \n\n      SEX_NAME      CITIZENSHIP_NAME  \n6620       NaN                   NaN  \n938    женский  Российская Федерация  \n3439       NaN                   NaN  \n1491       NaN                   NaN  \n691    мужской  Российская Федерация  \n\n[5 rows x 123 columns]",
      "text/html": "<div>\n<style scoped>\n    .dataframe tbody tr th:only-of-type {\n        vertical-align: middle;\n    }\n\n    .dataframe tbody tr th {\n        vertical-align: top;\n    }\n\n    .dataframe thead th {\n        text-align: right;\n    }\n</style>\n<table border=\"1\" class=\"dataframe\">\n  <thead>\n    <tr style=\"text-align: right;\">\n      <th></th>\n      <th>id_contract</th>\n      <th>id_client</th>\n      <th>SIGN_DATE</th>\n      <th>IP_flag</th>\n      <th>F1100</th>\n      <th>F1110</th>\n      <th>F1150</th>\n      <th>F1160</th>\n      <th>F1170</th>\n      <th>F1180</th>\n      <th>...</th>\n      <th>WINNERNUMBER_95_EVER</th>\n      <th>SIGNEDNUMBER_95_EVER</th>\n      <th>SUM_95_EVER</th>\n      <th>FLAG_DISQUALIFICATION</th>\n      <th>COUNT_CHANGE_YEAR</th>\n      <th>COUNT_CHANGE_EVER</th>\n      <th>BIRTHDATE</th>\n      <th>AGE</th>\n      <th>SEX_NAME</th>\n      <th>CITIZENSHIP_NAME</th>\n    </tr>\n  </thead>\n  <tbody>\n    <tr>\n      <th>6620</th>\n      <td>24512</td>\n      <td>5586</td>\n      <td>18NOV2019:00:00:00</td>\n      <td>1</td>\n      <td>NaN</td>\n      <td>NaN</td>\n      <td>NaN</td>\n      <td>NaN</td>\n      <td>NaN</td>\n      <td>NaN</td>\n      <td>...</td>\n      <td>NaN</td>\n      <td>NaN</td>\n      <td>NaN</td>\n      <td>NaN</td>\n      <td>NaN</td>\n      <td>NaN</td>\n      <td>NaN</td>\n      <td>NaN</td>\n      <td>NaN</td>\n      <td>NaN</td>\n    </tr>\n    <tr>\n      <th>938</th>\n      <td>18830</td>\n      <td>3780</td>\n      <td>06MAY2019:00:00:00</td>\n      <td>1</td>\n      <td>NaN</td>\n      <td>NaN</td>\n      <td>NaN</td>\n      <td>NaN</td>\n      <td>NaN</td>\n      <td>NaN</td>\n      <td>...</td>\n      <td>NaN</td>\n      <td>NaN</td>\n      <td>NaN</td>\n      <td>NaN</td>\n      <td>NaN</td>\n      <td>NaN</td>\n      <td>13APR1982:00:00:00</td>\n      <td>37.0</td>\n      <td>женский</td>\n      <td>Российская Федерация</td>\n    </tr>\n    <tr>\n      <th>3439</th>\n      <td>21331</td>\n      <td>8184</td>\n      <td>16JUL2019:00:00:00</td>\n      <td>0</td>\n      <td>NaN</td>\n      <td>NaN</td>\n      <td>NaN</td>\n      <td>NaN</td>\n      <td>NaN</td>\n      <td>NaN</td>\n      <td>...</td>\n      <td>380.0</td>\n      <td>374.0</td>\n      <td>49363710.0</td>\n      <td>NaN</td>\n      <td>NaN</td>\n      <td>NaN</td>\n      <td>NaN</td>\n      <td>NaN</td>\n      <td>NaN</td>\n      <td>NaN</td>\n    </tr>\n    <tr>\n      <th>1491</th>\n      <td>19383</td>\n      <td>10894</td>\n      <td>24MAY2019:00:00:00</td>\n      <td>0</td>\n      <td>NaN</td>\n      <td>NaN</td>\n      <td>NaN</td>\n      <td>NaN</td>\n      <td>NaN</td>\n      <td>NaN</td>\n      <td>...</td>\n      <td>NaN</td>\n      <td>NaN</td>\n      <td>NaN</td>\n      <td>NaN</td>\n      <td>NaN</td>\n      <td>NaN</td>\n      <td>NaN</td>\n      <td>NaN</td>\n      <td>NaN</td>\n      <td>NaN</td>\n    </tr>\n    <tr>\n      <th>691</th>\n      <td>18583</td>\n      <td>3452</td>\n      <td>25APR2019:00:00:00</td>\n      <td>1</td>\n      <td>NaN</td>\n      <td>NaN</td>\n      <td>NaN</td>\n      <td>NaN</td>\n      <td>NaN</td>\n      <td>NaN</td>\n      <td>...</td>\n      <td>NaN</td>\n      <td>NaN</td>\n      <td>NaN</td>\n      <td>NaN</td>\n      <td>NaN</td>\n      <td>NaN</td>\n      <td>01SEP1986:00:00:00</td>\n      <td>33.0</td>\n      <td>мужской</td>\n      <td>Российская Федерация</td>\n    </tr>\n  </tbody>\n</table>\n<p>5 rows × 123 columns</p>\n</div>"
     },
     "execution_count": 6,
     "metadata": {},
     "output_type": "execute_result"
    }
   ],
   "source": [
    "data_test.sample(5)"
   ],
   "metadata": {
    "collapsed": false
   }
  },
  {
   "cell_type": "markdown",
   "source": [
    "Заметим, что столбец `SIGN_DATE` содержит праздничные даты, хотя банк не работает по праздникам. Видимо, это даты отложенных транзакций"
   ],
   "metadata": {
    "collapsed": false
   }
  },
  {
   "cell_type": "markdown",
   "source": [
    "Посмотрим, как различаются тестовая и тренировочная выборки по клиентам"
   ],
   "metadata": {
    "collapsed": false
   }
  },
  {
   "cell_type": "code",
   "execution_count": 9,
   "outputs": [
    {
     "name": "stdout",
     "output_type": "stream",
     "text": [
      "Число общих клиентов (и в test, и в train): 948\n",
      "Число клиентов, которые только в test: 3813\n"
     ]
    }
   ],
   "source": [
    "A1 = set(data_train['id_client'].values)\n",
    "A2 = set(data_test['id_client'].values)\n",
    "print('Число общих клиентов (и в test, и в train):', len(A1&A2))\n",
    "print('Число клиентов, которые только в test:', len(A2-A1))"
   ],
   "metadata": {
    "collapsed": false
   }
  },
  {
   "cell_type": "markdown",
   "source": [
    "Посмотрим на распределение по классам"
   ],
   "metadata": {
    "collapsed": false
   }
  },
  {
   "cell_type": "code",
   "execution_count": 10,
   "outputs": [
    {
     "data": {
      "text/plain": "0    10502\n1     7389\nName: TARGET, dtype: int64"
     },
     "execution_count": 10,
     "metadata": {},
     "output_type": "execute_result"
    }
   ],
   "source": [
    "data_train.TARGET.value_counts()"
   ],
   "metadata": {
    "collapsed": false
   }
  },
  {
   "cell_type": "markdown",
   "source": [
    "Есть столбец `IP_flag`, который свидетельствует о плохом/хорошем контракте. Логично предположить, что этот столбец связан с целевым признаком"
   ],
   "metadata": {
    "collapsed": false
   }
  },
  {
   "cell_type": "code",
   "execution_count": 11,
   "outputs": [
    {
     "data": {
      "text/plain": "TARGET      0     1\nIP_flag            \n0        8214  6177\n1        2288  1212",
      "text/html": "<div>\n<style scoped>\n    .dataframe tbody tr th:only-of-type {\n        vertical-align: middle;\n    }\n\n    .dataframe tbody tr th {\n        vertical-align: top;\n    }\n\n    .dataframe thead th {\n        text-align: right;\n    }\n</style>\n<table border=\"1\" class=\"dataframe\">\n  <thead>\n    <tr style=\"text-align: right;\">\n      <th>TARGET</th>\n      <th>0</th>\n      <th>1</th>\n    </tr>\n    <tr>\n      <th>IP_flag</th>\n      <th></th>\n      <th></th>\n    </tr>\n  </thead>\n  <tbody>\n    <tr>\n      <th>0</th>\n      <td>8214</td>\n      <td>6177</td>\n    </tr>\n    <tr>\n      <th>1</th>\n      <td>2288</td>\n      <td>1212</td>\n    </tr>\n  </tbody>\n</table>\n</div>"
     },
     "execution_count": 11,
     "metadata": {},
     "output_type": "execute_result"
    }
   ],
   "source": [
    "pd.crosstab(index=data_train.IP_flag,\n",
    "            columns=data_train.TARGET)"
   ],
   "metadata": {
    "collapsed": false
   }
  },
  {
   "cell_type": "markdown",
   "source": [
    "Как мы видим, когда `IP_flag` равен 1, то пропорции классов **почти 2 к 1**. При `IP_flag` = 0 пропорция уже другая - 8 к 6"
   ],
   "metadata": {
    "collapsed": false
   }
  },
  {
   "cell_type": "code",
   "execution_count": null,
   "outputs": [],
   "source": [],
   "metadata": {
    "collapsed": false
   }
  }
 ],
 "metadata": {
  "kernelspec": {
   "display_name": "Python 3",
   "language": "python",
   "name": "python3"
  },
  "language_info": {
   "codemirror_mode": {
    "name": "ipython",
    "version": 2
   },
   "file_extension": ".py",
   "mimetype": "text/x-python",
   "name": "python",
   "nbconvert_exporter": "python",
   "pygments_lexer": "ipython2",
   "version": "2.7.6"
  }
 },
 "nbformat": 4,
 "nbformat_minor": 0
}
